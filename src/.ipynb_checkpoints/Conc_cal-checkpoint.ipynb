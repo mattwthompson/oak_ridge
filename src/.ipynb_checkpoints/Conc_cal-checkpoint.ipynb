{
 "cells": [
  {
   "cell_type": "code",
   "execution_count": 97,
   "metadata": {},
   "outputs": [],
   "source": [
    "#import numpy as np"
   ]
  },
  {
   "cell_type": "code",
   "execution_count": 98,
   "metadata": {},
   "outputs": [],
   "source": [
    "#Assume x mol IL per 1 kg ACN. (1 kg ACN =24.36 mol)\n",
    "#Assume il_x mol IL in 1 Liter volume, so there will be il_x * 24.36/il mol ACN in 1 Litter"
   ]
  },
  {
   "cell_type": "code",
   "execution_count": 99,
   "metadata": {},
   "outputs": [],
   "source": [
    "# How many L for 1 mol EMIM_TFSI (ET), MW/density = _g/mol / _g/cm3 *10^(-3) = _ L/mol\n",
    "#MW_density for EMIM_TFSI, BMIMTFSI, HMIMtfsi, ACN, [_g/mol / _g/cm3]\n",
    "MW_and_density = [[391.31,1.5235], [419.36,1.4431],[447.42,1.37], [41.05,0.786]]\n",
    "E_1mol_V=MW_density[0][0]/MW_density[0][1]*10**(-3) #L/mol\n",
    "B_1mol_V=MW_density[1][0]/MW_density[1][1]*10**(-3) #L/mol\n",
    "H_1mol_V=MW_density[2][0]/MW_density[2][1]*10**(-3) #L/mol\n",
    "ACN_1mol_V=MW_density[3][0]/MW_density[3][1]*10**(-3) #L/mol\n",
    "concentration=[0, 0.5, 1.5, 2.5, 3.5, 4.5, 5.5, 6.5, 7.5, 8.5, 10] # like concentration mol IL /24.36 mol ACN\n"
   ]
  },
  {
   "cell_type": "code",
   "execution_count": 100,
   "metadata": {},
   "outputs": [
    {
     "data": {
      "text/plain": [
       "[[0, 19.147381242387333],\n",
       " [0.356974232399960, 0.908311396862208],\n",
       " [0.904971543748398, 0.767558638146256],\n",
       " [1.30591944361692, 0.664575426661150],\n",
       " [1.61200481072116, 0.585957596007025],\n",
       " [1.85333241174008, 0.523972756128645],\n",
       " [2.04848722987296, 0.473847365985173],\n",
       " [2.20956351470693, 0.432475025310160],\n",
       " [2.34477082424873, 0.397747114383478],\n",
       " [2.45987780034561, 0.368181961238437],\n",
       " [3.893332651861695, 0]]"
      ]
     },
     "execution_count": 100,
     "metadata": {},
     "output_type": "execute_result"
    }
   ],
   "source": [
    "from sympy.solvers import solve\n",
    "from sympy import Symbol\n",
    "x = Symbol('x')\n",
    "ES_conc=[] #[[IL mol/L, ACN mol/L],,,,] for EMIM_TFSI in ACN at different concentration\n",
    "BS_conc=[]\n",
    "HS_conc=[]  \n",
    "for IL_1mol_V in [E_1mol_V,B_1mol_V,H_1mol_V]:\n",
    "    con_n=0\n",
    "    IL_conc=[]\n",
    "    \n",
    "    for con_n in range(len(concentration)):\n",
    "        if concentration[con_n]==0:\n",
    "            IL_conc.append([0,1/ACN_1mol_V])\n",
    "        elif concentration[con_n]==10:\n",
    "            IL_conc.append([1/IL_1mol_V,0])\n",
    "        \n",
    "        else:\n",
    "            s=solve(x*IL_1mol_V + x * 24.36/concentration[con_n]*ACN_1mol_V-1, x) \n",
    "            IL_conc.append([s[0],s[0]*24.36/concentration[con_n]*ACN_1mol_V])# x mol* E_1mol_V + x * 24.36/concentration[con_n] * ACN_1mol_V = 1L\n",
    "           \n",
    "        if IL_1mol_V==E_1mol_V:\n",
    "            ES_conc=IL_conc\n",
    "        elif IL_1mol_V==B_1mol_V:\n",
    "            BS_conc=IL_conc\n",
    "        else:\n",
    "            HS_conc=IL_conc   \n",
    "    \n",
    "ES_conc\n"
   ]
  },
  {
   "cell_type": "code",
   "execution_count": 101,
   "metadata": {},
   "outputs": [
    {
     "data": {
      "text/plain": [
       "[[0, 19.147381242387333],\n",
       " [0.352724987421826, 0.897499306544790],\n",
       " [0.878152484934968, 0.744811845275911],\n",
       " [1.25079536711125, 0.636523078683547],\n",
       " [1.52883501602546, 0.555725693077101],\n",
       " [1.74423912658391, 0.493129983976004],\n",
       " [1.91603040732215, 0.443208016343555],\n",
       " [2.05623664824550, 0.402464554910793],\n",
       " [2.17283520190260, 0.368581407892818],\n",
       " [2.27132560044311, 0.339960429767984],\n",
       " [3.4411961083555895, 0]]"
      ]
     },
     "execution_count": 101,
     "metadata": {},
     "output_type": "execute_result"
    }
   ],
   "source": [
    "BS_conc"
   ]
  },
  {
   "cell_type": "code",
   "execution_count": 102,
   "metadata": {},
   "outputs": [
    {
     "data": {
      "text/plain": [
       "[[0, 19.147381242387333],\n",
       " [0.348303750835680, 0.886249588175984],\n",
       " [0.851250958351011, 0.721995106725977],\n",
       " [1.19691875085832, 0.609105556562751],\n",
       " [1.44910708777841, 0.526744895464368],\n",
       " [1.64121903160934, 0.464004219618503],\n",
       " [1.79243690175760, 0.414618891544243],\n",
       " [1.91456207159077, 0.374734772210844],\n",
       " [2.01525347869559, 0.341850575592716],\n",
       " [2.09969855634962, 0.314272169283249],\n",
       " [3.0619999105985425, 0]]"
      ]
     },
     "execution_count": 102,
     "metadata": {},
     "output_type": "execute_result"
    }
   ],
   "source": [
    "HS_conc"
   ]
  },
  {
   "cell_type": "code",
   "execution_count": null,
   "metadata": {},
   "outputs": [],
   "source": []
  }
 ],
 "metadata": {
  "kernelspec": {
   "display_name": "Python 3",
   "language": "python",
   "name": "python3"
  },
  "language_info": {
   "codemirror_mode": {
    "name": "ipython",
    "version": 3
   },
   "file_extension": ".py",
   "mimetype": "text/x-python",
   "name": "python",
   "nbconvert_exporter": "python",
   "pygments_lexer": "ipython3",
   "version": "3.7.7"
  }
 },
 "nbformat": 4,
 "nbformat_minor": 4
}
